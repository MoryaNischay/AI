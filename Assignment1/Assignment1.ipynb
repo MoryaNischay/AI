{
 "cells": [
  {
   "cell_type": "code",
   "execution_count": null,
   "metadata": {},
   "outputs": [],
   "source": [
    "## Question 1\n",
    "\n",
    "import math\n",
    "a=int(input(\"Enter a number: \"))\n",
    "b=int(input(\"Enter an exponent: \"))\n",
    "sum = 0\n",
    "for i in range(0,b+1):\n",
    "    sum = sum + (a**i)/math.factorial(i)\n",
    "print(\"The sum of the series is: \",sum)\n"
   ]
  },
  {
   "cell_type": "code",
   "execution_count": null,
   "metadata": {},
   "outputs": [],
   "source": [
    "## Question 2\n",
    "\n",
    "import random as r\n",
    "list = [r.randint(100, 900) for i in range(100)]\n",
    "#count and print the number of even numbers\n",
    "count = 0\n",
    "for i in list:\n",
    "    if i%2 == 0:\n",
    "        count += 1\n",
    "print(\"Number of even numbers: \", count)\n",
    "#count and print the number of odd numbers\n",
    "count = 0\n",
    "for i in list:\n",
    "    if i%2 != 0:\n",
    "        count += 1\n",
    "print(\"Number of odd numbers: \", count)\n",
    "#count and print the number of prime numbers\n",
    "count = 0\n",
    "for i in list:\n",
    "    if i > 1:\n",
    "        for j in range(2, i):\n",
    "            if i % j == 0:\n",
    "                break\n",
    "        else:\n",
    "            count += 1\n",
    "print(\"Number of prime numbers: \", count)\n"
   ]
  },
  {
   "cell_type": "code",
   "execution_count": null,
   "metadata": {},
   "outputs": [],
   "source": [
    "## Question 3\n",
    "\n",
    "#find prime numbers between 2 input numbers\n",
    "a=int(input(\"Enter a number: \"))\n",
    "b=int(input(\"Enter another number: \"))\n",
    "for i in range(a, b+1):\n",
    "    if i > 1:\n",
    "        for j in range(2, i):\n",
    "            if i % j == 0:\n",
    "                break\n",
    "        else:\n",
    "            print(i)\n",
    "            \n"
   ]
  },
  {
   "cell_type": "code",
   "execution_count": null,
   "metadata": {},
   "outputs": [],
   "source": [
    "## Question 4\n",
    "\n",
    "#find common elements in 2 lists\n",
    "list1 = [r.randint(1, 10) for i in range(10)]\n",
    "list2 = [r.randint(1, 10) for i in range(10)]\n",
    "\n",
    "common = []\n",
    "for i in list1:\n",
    "    if i in list2:\n",
    "        common.append(i)\n",
    "print(common)\n"
   ]
  },
  {
   "cell_type": "code",
   "execution_count": null,
   "metadata": {},
   "outputs": [],
   "source": [
    "## Question 5\n",
    "\n",
    "#leap years between 2 input years\n",
    "a=int(input(\"Enter a year: \"))\n",
    "b=int(input(\"Enter another year: \"))\n",
    "for i in range(a, b+1):\n",
    "    if i%4==0 and i%100!=0 or i%400==0:\n",
    "        print(i)\n",
    "    "
   ]
  },
  {
   "cell_type": "code",
   "execution_count": null,
   "metadata": {},
   "outputs": [],
   "source": [
    "## Question 6\n",
    "#input a basic salary and calculate gross salary\n",
    "\n",
    "a=int(input(\"Enter basic salary: \"))\n",
    "if a <= 10000:\n",
    "    print(\"Gross salary: \", a + a*0.2 + a*0.8)\n",
    "elif a <= 20000:\n",
    "    print(\"Gross salary: \", a + a*0.25 + a*0.9)\n",
    "else:\n",
    "    print(\"Gross salary: \", a + a*0.3 + a*0.95)"
   ]
  },
  {
   "cell_type": "code",
   "execution_count": null,
   "metadata": {},
   "outputs": [],
   "source": [
    "## Question 7\n",
    "\n",
    "a= input(\"Enter a password: \")\n",
    "if len(a) >= 6 and len(a) <= 16:\n",
    "    if any(i.isupper() for i in a) and any(i.islower() for i in a) and any(i.isdigit() for i in a) and any(i in \"$#@\" for i in a):\n",
    "        print(\"Valid password\")\n",
    "    else:\n",
    "        print(\"Invalid password\")\n",
    "else:\n",
    "    print(\"Invalid password\")"
   ]
  },
  {
   "cell_type": "code",
   "execution_count": null,
   "metadata": {},
   "outputs": [],
   "source": [
    "## Question 8\n",
    "\n",
    "list = [10, 20, 30, 40, 50, 60, 70, 80]\n",
    "#add 200 and 300 \n",
    "list.append(200)\n",
    "list.append(300)\n",
    "#remove 10 and 30 \n",
    "list.remove(10)\n",
    "list.remove(30)\n",
    "#sort \n",
    "list.sort()\n",
    "print(list)\n",
    "#sort reverse\n",
    "list.sort(reverse=True)\n",
    "print(list)"
   ]
  },
  {
   "cell_type": "code",
   "execution_count": null,
   "metadata": {},
   "outputs": [],
   "source": [
    "## Question 9\n",
    "\n",
    "Dict = {1:\"One\", 2:\"Two\", 3:\"Three\", 4:\"Four\", 5:\"Five\"}\n",
    "Dict[6] = \"Six\"\n",
    "#remove key 2 \n",
    "Dict.pop(2)\n",
    "#check if 6 \n",
    "if 6 in Dict:\n",
    "    print(\"6 is a key in the dictionary\")\n",
    "print(\"Number of items in the dictionary: \", len(Dict))\n",
    "#sum\n",
    "sum = 0\n",
    "for i in Dict:\n",
    "    sum += i\n",
    "print(\"Sum of all the values in the dictionary: \", sum)\n"
   ]
  }
 ],
 "metadata": {
  "kernelspec": {
   "display_name": "Python 3",
   "language": "python",
   "name": "python3"
  },
  "language_info": {
   "codemirror_mode": {
    "name": "ipython",
    "version": 3
   },
   "file_extension": ".py",
   "mimetype": "text/x-python",
   "name": "python",
   "nbconvert_exporter": "python",
   "pygments_lexer": "ipython3",
   "version": "3.10.7"
  },
  "orig_nbformat": 4,
  "vscode": {
   "interpreter": {
    "hash": "876db7d3f8682b7e4c5477e5f1e2dc2bd1b19fe05d9aabd59218369070754b39"
   }
  }
 },
 "nbformat": 4,
 "nbformat_minor": 2
}
