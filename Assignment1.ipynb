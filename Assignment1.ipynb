{
 "cells": [
  {
   "cell_type": "code",
   "execution_count": null,
   "metadata": {},
   "outputs": [],
   "source": [
    "## Question 1\n",
    "\n",
    "#4 blank lists to take input from user each storing a 10 values each not more than 100\n",
    "Maths = []\n",
    "Science = []\n",
    "English = []\n",
    "IT = []\n",
    "#loop to take input from user\n",
    "for i in range(10):\n",
    "    marks = int(input(\"Enter Maths marks: \"))\n",
    "    if marks > 100:\n",
    "        print(\"Invalid marks\")\n",
    "    else:\n",
    "        Maths.append(marks)\n",
    "for i in range(10):\n",
    "    marks1 = int(input(\"Enter Science marks: \"))\n",
    "    if marks1 > 100:\n",
    "        print(\"Invalid marks\")\n",
    "    else:\n",
    "        Science.append(marks)\n",
    "for i in range(10):\n",
    "    marks2 = int(input(\"Enter English marks: \"))\n",
    "    if marks2 > 100:\n",
    "        print(\"Invalid marks\")\n",
    "    else:\n",
    "        English.append(marks)\n",
    "for i in range(10):\n",
    "    marks3 = int(input(\"Enter IT marks: \"))\n",
    "    if marks3 > 100:\n",
    "        print(\"Invalid marks\")\n",
    "    else:\n",
    "        IT.append(marks)\n",
    "#print the list\n",
    "print(\"Maths: \", Maths)\n",
    "#print the max,min and average of the list\n",
    "print(\"Maximum Marks: \", max(Maths))\n",
    "print(\"Minimum Marks: \", min(Maths))\n",
    "print(\"Average Marks: \", sum(Maths)/len(Maths))\n",
    "#do this for all the subjects\n",
    "print(\"Science: \", Science)\n",
    "print(\"Maximum Marks: \", max(Science))\n",
    "print(\"Minimum Marks: \", min(Science))\n",
    "print(\"Average Marks: \", sum(Science)/len(Science))\n",
    "print(\"English: \", English)\n",
    "print(\"Maximum Marks: \", max(English))\n",
    "print(\"Minimum Marks: \", min(English))\n",
    "print(\"Average Marks: \", sum(English)/len(English))\n",
    "print(\"IT: \", IT)\n",
    "print(\"Maximum Marks: \", max(IT))\n",
    "print(\"Minimum Marks: \", min(IT))\n",
    "print(\"Average Marks: \", sum(IT)/len(IT))"
   ]
  },
  {
   "cell_type": "code",
   "execution_count": null,
   "metadata": {},
   "outputs": [],
   "source": [
    "## Question 2\n",
    "#Take base salary from user\n",
    "base_salary = int(input(\"Enter base salary: \"))\n",
    "#calculate the gross salary\n",
    "if base_salary <= 10000:\n",
    "    gross_salary = base_salary + (base_salary * 0.2) + (base_salary * 0.8)\n",
    "elif base_salary <= 20000:\n",
    "    gross_salary = base_salary + (base_salary * 0.25) + (base_salary * 0.9)\n",
    "else:\n",
    "    gross_salary = base_salary + (base_salary * 0.3) + (base_salary * 0.95)\n",
    "#print the gross salary\n",
    "print(\"Gross Salary: \", gross_salary)"
   ]
  },
  {
   "cell_type": "code",
   "execution_count": null,
   "metadata": {},
   "outputs": [],
   "source": [
    "## Question 3\n",
    "#check if the password is valid or not\n",
    "#it is valid if it has at least 1 uppercase, 1 lowercase, 1 digit and 1 special character and length is from 6 to 16\n",
    "password = input(\"Enter password: \")\n",
    "if len(password) >= 6 and len(password) <= 16:\n",
    "    if any(char.isdigit() for char in password) and any(char.isupper() for char in password) and any(char.islower() for char in password) and any(char in ['@', '#', '$'] for char in password):\n",
    "        print(\"Valid Password\")\n",
    "    else:\n",
    "        print(\"Invalid Password\")\n",
    "\n"
   ]
  },
  {
   "cell_type": "code",
   "execution_count": null,
   "metadata": {},
   "outputs": [],
   "source": [
    "## Question 4\n",
    "list = [10, 20, 30, 40, 50, 60, 70, 80, ]\n",
    "#add 200 and 300 to the list\n",
    "list.append(200)\n",
    "list.append(300)\n",
    "print(list)\n",
    "#remove 10 and 30 from the list\n",
    "list.remove(10)\n",
    "list.remove(30)\n",
    "print(list)\n",
    "#sort the list in ascending order\n",
    "list.sort()\n",
    "print(list)\n",
    "#reverse the list\n",
    "list.reverse()\n",
    "print(list)"
   ]
  },
  {
   "cell_type": "code",
   "execution_count": null,
   "metadata": {},
   "outputs": [],
   "source": [
    "## Question 5\n",
    "\n",
    "Dict = {1:'One', 2:'Two', 3:'Three', 4:'Four', 5:'Five'}\n",
    "#add 6:'Six' to the dictionary\n",
    "Dict[6] = 'Six'\n",
    "print(Dict)\n",
    "#remove key 2 \n",
    "Dict.pop(2)\n",
    "print(Dict)\n",
    "#check for 6\n",
    "if 6 in Dict:\n",
    "    print(\"6 is present in the dictionary\")\n",
    "else:\n",
    "    print(\"6 is not present in the dictionary\")\n",
    "#count element\n",
    "print(\"Number of elements in the dictionary: \", len(Dict))\n",
    "#sum of all the keys\n",
    "print(\"Sum of all the values: \", sum(Dict.keys()))"
   ]
  },
  {
   "cell_type": "code",
   "execution_count": null,
   "metadata": {},
   "outputs": [],
   "source": [
    "## Question 6\n",
    "\n",
    "import random as r\n",
    "# list of 100 random numbers\n",
    "list = [r.randint(100, 900) for i in range(100)]\n",
    "#count and print the number of even numbers\n",
    "count = 0\n",
    "for i in list:\n",
    "    if i%2 == 0:\n",
    "        count += 1\n",
    "print(\"Number of even numbers: \", count)\n",
    "#count and print the number of odd numbers\n",
    "count = 0\n",
    "for i in list:\n",
    "    if i%2 != 0:\n",
    "        count += 1\n",
    "print(\"Number of odd numbers: \", count)\n",
    "#count and print the number of prime numbers\n",
    "count = 0\n",
    "for i in list:\n",
    "    if i > 1:\n",
    "        for j in range(2, i):\n",
    "            if i % j == 0:\n",
    "                break\n",
    "        else:\n",
    "            count += 1\n",
    "print(\"Number of prime numbers: \", count)\n"
   ]
  },
  {
   "cell_type": "code",
   "execution_count": null,
   "metadata": {},
   "outputs": [],
   "source": [
    "## Question 7\n",
    "#make a function to calculate compound interest from principal, rate and time\n",
    "def compound_interest(principal, rate, time):\n",
    "    return principal * (pow((1 + rate / 100), time))\n",
    "#take input from user\n",
    "principal = int(input(\"Enter principal: \"))\n",
    "rate = int(input(\"Enter rate: \"))\n",
    "time = int(input(\"Enter time: \"))\n",
    "#call the function\n",
    "print(\"Compound Interest: \", compound_interest(principal, rate, time))"
   ]
  },
  {
   "cell_type": "code",
   "execution_count": null,
   "metadata": {},
   "outputs": [],
   "source": [
    "## Question 8"
   ]
  }
 ],
 "metadata": {
  "kernelspec": {
   "display_name": "Python 3",
   "language": "python",
   "name": "python3"
  },
  "language_info": {
   "codemirror_mode": {
    "name": "ipython",
    "version": 3
   },
   "file_extension": ".py",
   "mimetype": "text/x-python",
   "name": "python",
   "nbconvert_exporter": "python",
   "pygments_lexer": "ipython3",
   "version": "3.10.7 (tags/v3.10.7:6cc6b13, Sep  5 2022, 14:08:36) [MSC v.1933 64 bit (AMD64)]"
  },
  "orig_nbformat": 4,
  "vscode": {
   "interpreter": {
    "hash": "876db7d3f8682b7e4c5477e5f1e2dc2bd1b19fe05d9aabd59218369070754b39"
   }
  }
 },
 "nbformat": 4,
 "nbformat_minor": 2
}
