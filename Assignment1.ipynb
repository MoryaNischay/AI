{
 "cells": [
  {
   "cell_type": "code",
   "execution_count": 2,
   "metadata": {},
   "outputs": [
    {
     "name": "stdout",
     "output_type": "stream",
     "text": [
      "6.333333333333333\n"
     ]
    }
   ],
   "source": [
    "## Question 1\n",
    "# calculate sum of series 1 + x + x^2/2! + x^3/3! + ... + x^n/n!\n",
    "# x is a number, n is a positive integer\n",
    "import math\n",
    "\n",
    "def sum_series(x, n):\n",
    "    sum = 0\n",
    "    for i in range(n+1):\n",
    "        sum += x**i/math.factorial(i)\n",
    "    return sum\n",
    "\n",
    "a=int(input(\"Enter a number: \"))\n",
    "b=int(input(\"Enter an exponent: \"))\n",
    "print(sum_series(a, b))"
   ]
  },
  {
   "cell_type": "code",
   "execution_count": 4,
   "metadata": {},
   "outputs": [
    {
     "name": "stdout",
     "output_type": "stream",
     "text": [
      "Number of even numbers:  52\n",
      "Number of odd numbers:  48\n",
      "Number of prime numbers:  18\n"
     ]
    }
   ],
   "source": [
    "## Question 2\n",
    "import random as r\n",
    "# list of 100 random numbers\n",
    "list = [r.randint(100, 900) for i in range(100)]\n",
    "#count and print the number of even numbers\n",
    "count = 0\n",
    "for i in list:\n",
    "    if i%2 == 0:\n",
    "        count += 1\n",
    "print(\"Number of even numbers: \", count)\n",
    "#count and print the number of odd numbers\n",
    "count = 0\n",
    "for i in list:\n",
    "    if i%2 != 0:\n",
    "        count += 1\n",
    "print(\"Number of odd numbers: \", count)\n",
    "#count and print the number of prime numbers\n",
    "count = 0\n",
    "for i in list:\n",
    "    if i > 1:\n",
    "        for j in range(2, i):\n",
    "            if i % j == 0:\n",
    "                break\n",
    "        else:\n",
    "            count += 1\n",
    "print(\"Number of prime numbers: \", count)\n"
   ]
  },
  {
   "cell_type": "code",
   "execution_count": null,
   "metadata": {},
   "outputs": [],
   "source": [
    "## Question 3\n",
    "#find prime numbers between 2 input numbers\n",
    "def prime_numbers(a, b):\n",
    "    for i in range(a, b+1):\n",
    "        if i > 1:\n",
    "            for j in range(2, i):\n",
    "                if i % j == 0:\n",
    "                    break\n",
    "            else:\n",
    "                print(i)\n",
    "\n",
    "a=int(input(\"Enter a number: \"))\n",
    "b=int(input(\"Enter another number: \"))\n",
    "prime_numbers(a, b)"
   ]
  },
  {
   "cell_type": "code",
   "execution_count": 5,
   "metadata": {},
   "outputs": [
    {
     "name": "stdout",
     "output_type": "stream",
     "text": [
      "[6, 3, 6, 3, 3, 5, 2]\n"
     ]
    }
   ],
   "source": [
    "## Question 4\n",
    "#define 2 random lists\n",
    "list1 = [r.randint(1, 10) for i in range(10)]\n",
    "list2 = [r.randint(1, 10) for i in range(10)]\n",
    "#find common elements in the lists\n",
    "common = []\n",
    "for i in list1:\n",
    "    if i in list2:\n",
    "        common.append(i)\n",
    "print(common)\n"
   ]
  },
  {
   "cell_type": "code",
   "execution_count": null,
   "metadata": {},
   "outputs": [],
   "source": [
    "## Question 5\n",
    "#print leap years between 2 input years\n",
    "def leap_years(a, b):\n",
    "    for i in range(a, b+1):\n",
    "        if i%4 == 0 and i%100 != 0 or i%400 == 0:\n",
    "            print(i)\n",
    "\n",
    "a=int(input(\"Enter a year: \"))\n",
    "b=int(input(\"Enter another year: \"))\n",
    "leap_years(a, b)"
   ]
  },
  {
   "cell_type": "code",
   "execution_count": null,
   "metadata": {},
   "outputs": [],
   "source": [
    "## Question 6\n",
    "\n",
    "#input a basic salary and calculate gross salary\n",
    "def gross_salary(basic):\n",
    "    if basic <= 10000:\n",
    "        gross = basic + basic*0.2 + basic*0.8\n",
    "    elif basic <= 20000:\n",
    "        gross = basic + basic*0.25 + basic*0.9\n",
    "    else:\n",
    "        gross = basic + 2500 + basic*0.95\n",
    "    return gross\n",
    "\n",
    "a=int(input(\"Enter basic salary: \"))\n",
    "print(\"Gross salary: \", gross_salary(a))\n"
   ]
  },
  {
   "cell_type": "code",
   "execution_count": null,
   "metadata": {},
   "outputs": [],
   "source": [
    "## Question 7\n",
    "#input a password and check if has at least 1 uppercase letter, 1 lowercase letter, 1 digit and 1 special character and is at least 6 characters long and max 16 characters long\n",
    "a= input(\"Enter a password: \")\n",
    "if len(a) >= 6 and len(a) <= 16:\n",
    "    if any(i.isupper() for i in a) and any(i.islower() for i in a) and any(i.isdigit() for i in a) and any(i in \"!@#$%^&*()_+-=\" for i in a):\n",
    "        print(\"Valid password\")\n",
    "    else:\n",
    "        print(\"Invalid password\")\n",
    "else:\n",
    "    print(\"Invalid password\")"
   ]
  },
  {
   "cell_type": "code",
   "execution_count": null,
   "metadata": {},
   "outputs": [],
   "source": [
    "## Question 8\n",
    "list = [10, 20, 30, 40, 50, 60, 70, 80]\n",
    "#add 200 and 300 to the list\n",
    "list.append(200)\n",
    "list.append(300)\n",
    "#remove 10 and 30 from the list\n",
    "list.remove(10)\n",
    "list.remove(30)\n",
    "#sort the list in ascending order\n",
    "list.sort()\n",
    "#print the list\n",
    "print(list)\n",
    "#sort the list in descending order\n",
    "list.sort(reverse=True)\n",
    "#print the list\n",
    "print(list)"
   ]
  },
  {
   "cell_type": "code",
   "execution_count": null,
   "metadata": {},
   "outputs": [],
   "source": [
    "## Question 9\n",
    "\n",
    "Dict = {1:\"One\", 2:\"Two\", 3:\"Three\", 4:\"Four\", 5:\"Five\"}\n",
    "#add 6:\"Six\" to the dictionary\n",
    "Dict[6] = \"Six\"\n",
    "#remove key 2 \n",
    "Dict.pop(2)\n",
    "#check if 6 is a key in the dictionary\n",
    "if 6 in Dict:\n",
    "    print(\"6 is a key in the dictionary\")\n",
    "#count the number of items in the dictionary\n",
    "print(\"Number of items in the dictionary: \", len(Dict))\n",
    "# add all the values in the dictionary\n",
    "sum = 0\n",
    "for i in Dict:\n",
    "    sum += i\n",
    "print(\"Sum of all the values in the dictionary: \", sum)\n"
   ]
  }
 ],
 "metadata": {
  "kernelspec": {
   "display_name": "Python 3",
   "language": "python",
   "name": "python3"
  },
  "language_info": {
   "codemirror_mode": {
    "name": "ipython",
    "version": 3
   },
   "file_extension": ".py",
   "mimetype": "text/x-python",
   "name": "python",
   "nbconvert_exporter": "python",
   "pygments_lexer": "ipython3",
   "version": "3.10.7"
  },
  "orig_nbformat": 4,
  "vscode": {
   "interpreter": {
    "hash": "876db7d3f8682b7e4c5477e5f1e2dc2bd1b19fe05d9aabd59218369070754b39"
   }
  }
 },
 "nbformat": 4,
 "nbformat_minor": 2
}
