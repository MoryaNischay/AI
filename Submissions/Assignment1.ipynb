{
 "cells": [
  {
   "cell_type": "code",
   "execution_count": 2,
   "metadata": {},
   "outputs": [
    {
     "name": "stdout",
     "output_type": "stream",
     "text": [
      "The first input is: 4\n",
      "The second input is: 3\n",
      "The sum of the series is:  23.666666666666664\n"
     ]
    }
   ],
   "source": [
    "## Question 1\n",
    "\n",
    "import math\n",
    "a=int(input(\"Enter a number: \"))\n",
    "b=int(input(\"Enter an exponent: \"))\n",
    "sum = 0\n",
    "for i in range(0,b+1):\n",
    "    sum = sum + (a**i)/math.factorial(i)\n",
    "print(\"The first input is:\",a)\n",
    "print(\"The second input is:\",b)\n",
    "print(\"The sum of the series is: \",sum)\n"
   ]
  },
  {
   "cell_type": "code",
   "execution_count": 3,
   "metadata": {},
   "outputs": [
    {
     "name": "stdout",
     "output_type": "stream",
     "text": [
      "Number of even numbers:  46\n",
      "Number of odd numbers:  54\n",
      "Number of prime numbers:  20\n"
     ]
    }
   ],
   "source": [
    "## Question 2\n",
    "\n",
    "import random as r\n",
    "list = [r.randint(100, 900) for i in range(100)]\n",
    "count = 0\n",
    "for i in list:\n",
    "    if i%2 == 0:\n",
    "        count += 1\n",
    "print(\"Number of even numbers: \", count)\n",
    "count = 0\n",
    "for i in list:\n",
    "    if i%2 != 0:\n",
    "        count += 1\n",
    "print(\"Number of odd numbers: \", count)\n",
    "count = 0\n",
    "for i in list:\n",
    "    if i > 1:\n",
    "        for j in range(2, i):\n",
    "            if i % j == 0:\n",
    "                break\n",
    "        else:\n",
    "            count += 1\n",
    "print(\"Number of prime numbers: \", count)\n"
   ]
  },
  {
   "cell_type": "code",
   "execution_count": 6,
   "metadata": {},
   "outputs": [
    {
     "name": "stdout",
     "output_type": "stream",
     "text": [
      "Prime numbers between 1 and 10 are:\n",
      "2\n",
      "3\n",
      "5\n",
      "7\n"
     ]
    }
   ],
   "source": [
    "## Question 3\n",
    "\n",
    "#find prime numbers between 2 input numbers\n",
    "a=int(input(\"Enter a number: \"))\n",
    "b=int(input(\"Enter another number: \"))\n",
    "print(\"Prime numbers between\",a,\"and\",b,\"are:\")\n",
    "for i in range(a, b+1):\n",
    "    if i > 1:\n",
    "        for j in range(2, i):\n",
    "            if i % j == 0:\n",
    "                break\n",
    "        else:\n",
    "            print(i)\n",
    "            \n"
   ]
  },
  {
   "cell_type": "code",
   "execution_count": 7,
   "metadata": {},
   "outputs": [
    {
     "name": "stdout",
     "output_type": "stream",
     "text": [
      "[532, 11, 255, 324]\n"
     ]
    }
   ],
   "source": [
    "## Question 4\n",
    "\n",
    "#find common elements in 2 lists\n",
    "list1 = [532,4,56,11,255,123,765,99,324]\n",
    "list2 = [11,532,623,8,42,324,255,452,91]\n",
    "\n",
    "common = []\n",
    "for i in list1:\n",
    "    if i in list2:\n",
    "        common.append(i)\n",
    "print(common)\n"
   ]
  },
  {
   "cell_type": "code",
   "execution_count": 8,
   "metadata": {},
   "outputs": [
    {
     "name": "stdout",
     "output_type": "stream",
     "text": [
      "2000\n",
      "2004\n",
      "2008\n",
      "2012\n",
      "2016\n",
      "2020\n"
     ]
    }
   ],
   "source": [
    "## Question 5\n",
    "\n",
    "#leap years between 2 input years\n",
    "a=int(input(\"Enter a year: \"))\n",
    "b=int(input(\"Enter another year: \"))\n",
    "for i in range(a, b+1):\n",
    "    if i%4==0 and i%100!=0 or i%400==0:\n",
    "        print(i)\n",
    "    "
   ]
  },
  {
   "cell_type": "code",
   "execution_count": 10,
   "metadata": {},
   "outputs": [
    {
     "name": "stdout",
     "output_type": "stream",
     "text": [
      "Basic salary:  12786\n",
      "Gross salary:  27489.9\n"
     ]
    }
   ],
   "source": [
    "## Question 6\n",
    "#input a basic salary and calculate gross salary\n",
    "\n",
    "a=int(input(\"Enter basic salary: \"))\n",
    "print(\"Basic salary: \", a)\n",
    "if a <= 10000:\n",
    "    print(\"Gross salary: \", a + a*0.2 + a*0.8)\n",
    "elif a <= 20000:\n",
    "    print(\"Gross salary: \", a + a*0.25 + a*0.9)\n",
    "else:\n",
    "    print(\"Gross salary: \", a + a*0.3 + a*0.95)"
   ]
  },
  {
   "cell_type": "code",
   "execution_count": 11,
   "metadata": {},
   "outputs": [
    {
     "name": "stdout",
     "output_type": "stream",
     "text": [
      "Password:  adJ#!hdj12\n",
      "Valid password\n"
     ]
    }
   ],
   "source": [
    "## Question 7\n",
    "\n",
    "a= input(\"Enter a password: \")\n",
    "print(\"Password: \", a)\n",
    "#check if password is valid\n",
    "if len(a) >= 6 and len(a) <= 16:\n",
    "    if any(i.isupper() for i in a) and any(i.islower() for i in a) and any(i.isdigit() for i in a) and any(i in \"$#@\" for i in a):\n",
    "        print(\"Valid password\")\n",
    "    else:\n",
    "        print(\"Invalid password\")\n",
    "#Invalid if length is less than 6 or greater than 16\n",
    "else:\n",
    "    print(\"Invalid password\")"
   ]
  },
  {
   "cell_type": "code",
   "execution_count": 12,
   "metadata": {},
   "outputs": [
    {
     "name": "stdout",
     "output_type": "stream",
     "text": [
      "[20, 40, 50, 60, 70, 80, 200, 300]\n",
      "[300, 200, 80, 70, 60, 50, 40, 20]\n"
     ]
    }
   ],
   "source": [
    "## Question 8\n",
    "\n",
    "list = [10, 20, 30, 40, 50, 60, 70, 80] \n",
    "list.append(200)\n",
    "list.append(300)\n",
    "list.remove(10)\n",
    "list.remove(30)\n",
    "list.sort()\n",
    "print(list)\n",
    "list.sort(reverse=True)\n",
    "print(list)"
   ]
  },
  {
   "cell_type": "code",
   "execution_count": 13,
   "metadata": {},
   "outputs": [
    {
     "name": "stdout",
     "output_type": "stream",
     "text": [
      "6 is a key in the dictionary\n",
      "Number of items in the dictionary:  5\n",
      "Sum of all the values in the dictionary:  19\n"
     ]
    }
   ],
   "source": [
    "## Question 9\n",
    "\n",
    "Dict = {1:\"One\", 2:\"Two\", 3:\"Three\", 4:\"Four\", 5:\"Five\"}\n",
    "Dict[6] = \"Six\"\n",
    "#remove key 2 \n",
    "Dict.pop(2)\n",
    "#check if 6 \n",
    "if 6 in Dict:\n",
    "    print(\"6 is a key in the dictionary\")\n",
    "print(\"Number of items in the dictionary: \", len(Dict))\n",
    "#sum\n",
    "sum = 0\n",
    "for i in Dict:\n",
    "    sum += i\n",
    "print(\"Sum of all the values in the dictionary: \", sum)\n"
   ]
  },
  {
   "cell_type": "code",
   "execution_count": 4,
   "metadata": {},
   "outputs": [],
   "source": [
    "##Question 10 (a)\n",
    "\n",
    "def compound_interest(principal, rate, time):\n",
    "    return principal * (pow((1 + rate / 100), time))\n",
    "\n",
    "#Execute this cell first for the 2nd cell to work"
   ]
  },
  {
   "cell_type": "code",
   "execution_count": 5,
   "metadata": {},
   "outputs": [
    {
     "name": "stdout",
     "output_type": "stream",
     "text": [
      "Principal amount is:  12233 Rate of interest is:  13.0 Time period is:  3\n",
      "Compound interest is:  17650.959000999996\n"
     ]
    }
   ],
   "source": [
    "##Question 10 (b)\n",
    "\n",
    "#Command to use the function if it was in a different file:- import Question10a as q10a . Then use q10a.compound_interest(principal, rate, time)\n",
    "\n",
    "principal = int(input(\"Enter the principal amount: \"))\n",
    "rate = float(input(\"Enter the rate of interest: \"))\n",
    "time = int(input(\"Enter the time period: \"))\n",
    "print(\"Principal amount is: \", principal, \"Rate of interest is: \", rate, \"Time period is: \", time)\n",
    "print(\"Compound interest is: \", compound_interest(principal, rate, time))"
   ]
  }
 ],
 "metadata": {
  "kernelspec": {
   "display_name": "Python 3",
   "language": "python",
   "name": "python3"
  },
  "language_info": {
   "codemirror_mode": {
    "name": "ipython",
    "version": 3
   },
   "file_extension": ".py",
   "mimetype": "text/x-python",
   "name": "python",
   "nbconvert_exporter": "python",
   "pygments_lexer": "ipython3",
   "version": "3.10.7 (tags/v3.10.7:6cc6b13, Sep  5 2022, 14:08:36) [MSC v.1933 64 bit (AMD64)]"
  },
  "orig_nbformat": 4,
  "vscode": {
   "interpreter": {
    "hash": "876db7d3f8682b7e4c5477e5f1e2dc2bd1b19fe05d9aabd59218369070754b39"
   }
  }
 },
 "nbformat": 4,
 "nbformat_minor": 2
}
