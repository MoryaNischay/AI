{
 "cells": [
  {
   "cell_type": "code",
   "execution_count": 4,
   "metadata": {},
   "outputs": [
    {
     "ename": "AttributeError",
     "evalue": "'str' object has no attribute 'append'",
     "output_type": "error",
     "traceback": [
      "\u001b[1;31m---------------------------------------------------------------------------\u001b[0m",
      "\u001b[1;31mAttributeError\u001b[0m                            Traceback (most recent call last)",
      "Cell \u001b[1;32mIn[4], line 37\u001b[0m\n\u001b[0;32m     34\u001b[0m                 stack\u001b[39m.\u001b[39mappend(i);\n\u001b[0;32m     35\u001b[0m     \u001b[39mreturn\u001b[39;00m \u001b[39mFalse\u001b[39;00m;\n\u001b[1;32m---> 37\u001b[0m \u001b[39mprint\u001b[39m(dfs(initial,goal));\n",
      "Cell \u001b[1;32mIn[4], line 33\u001b[0m, in \u001b[0;36mdfs\u001b[1;34m(initial, goal)\u001b[0m\n\u001b[0;32m     31\u001b[0m         \u001b[39mreturn\u001b[39;00m temp;\n\u001b[0;32m     32\u001b[0m     \u001b[39melse\u001b[39;00m:\n\u001b[1;32m---> 33\u001b[0m         \u001b[39mfor\u001b[39;00m i \u001b[39min\u001b[39;00m generate(temp):\n\u001b[0;32m     34\u001b[0m             stack\u001b[39m.\u001b[39mappend(i);\n\u001b[0;32m     35\u001b[0m \u001b[39mreturn\u001b[39;00m \u001b[39mFalse\u001b[39;00m\n",
      "Cell \u001b[1;32mIn[4], line 15\u001b[0m, in \u001b[0;36mgenerate\u001b[1;34m(initial)\u001b[0m\n\u001b[0;32m     13\u001b[0m temp \u001b[39m=\u001b[39m copy\u001b[39m.\u001b[39mdeepcopy(initial[i]);\n\u001b[0;32m     14\u001b[0m temp1 \u001b[39m=\u001b[39m copy\u001b[39m.\u001b[39mdeepcopy(initial[j]);\n\u001b[1;32m---> 15\u001b[0m temp1\u001b[39m.\u001b[39;49mappend(temp\u001b[39m.\u001b[39mpop());\n\u001b[0;32m     16\u001b[0m \u001b[39mif\u001b[39;00m temp1 \u001b[39mnot\u001b[39;00m \u001b[39min\u001b[39;00m initial:\n\u001b[0;32m     17\u001b[0m     \u001b[39myield\u001b[39;00m temp1\n",
      "\u001b[1;31mAttributeError\u001b[0m: 'str' object has no attribute 'append'"
     ]
    }
   ],
   "source": [
    "#block world problem using dfs\n",
    "import copy;\n",
    "\n",
    "\n",
    "initial = [['A'],['B','C'],[]];\n",
    "goal = [[],[],['A','B','C']];\n",
    "\n",
    "def generate(initial):\n",
    "    for i in range(len(initial)):\n",
    "        for j in range(len(initial)):\n",
    "            if i != j:\n",
    "                if len(initial[i]) > 0:\n",
    "                    temp = copy.deepcopy(initial[i]);\n",
    "                    temp1 = copy.deepcopy(initial[j]);\n",
    "                    temp1.append(temp.pop());\n",
    "                    if temp1 not in initial:\n",
    "                        yield temp1;\n",
    "\n",
    "def check(initial,goal):\n",
    "    if initial == goal:\n",
    "        return True;\n",
    "    else:\n",
    "        return False;\n",
    "\n",
    "def dfs(initial,goal):\n",
    "    stack = [];\n",
    "    stack.append(initial);\n",
    "    while len(stack) > 0:\n",
    "        temp = stack.pop();\n",
    "        if check(temp,goal):\n",
    "            return temp;\n",
    "        else:\n",
    "            for i in generate(temp):\n",
    "                stack.append(i);\n",
    "    return False;\n",
    "\n",
    "print(dfs(initial,goal));\n"
   ]
  }
 ],
 "metadata": {
  "kernelspec": {
   "display_name": "Python 3",
   "language": "python",
   "name": "python3"
  },
  "language_info": {
   "codemirror_mode": {
    "name": "ipython",
    "version": 3
   },
   "file_extension": ".py",
   "mimetype": "text/x-python",
   "name": "python",
   "nbconvert_exporter": "python",
   "pygments_lexer": "ipython3",
   "version": "3.11.2"
  },
  "orig_nbformat": 4
 },
 "nbformat": 4,
 "nbformat_minor": 2
}
