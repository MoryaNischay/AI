{
 "cells": [
  {
   "cell_type": "code",
   "execution_count": null,
   "metadata": {},
   "outputs": [],
   "source": [
    "# Q1 block world problem using DFS\n",
    "import copy;\n",
    "\n",
    "\n",
    "initial = [['A'],['B','C'],[]];\n",
    "goal = [[],[],['A','B','C']];\n",
    "\n",
    "def genvalidstates(initial):\n",
    "    validstates = [];\n",
    "    for i in range(0,3):\n",
    "        for j in range(0,3):\n",
    "            if i!=j:\n",
    "                if len(initial[i])>0:\n",
    "                    temp = copy.deepcopy(initial);\n",
    "                    temp[j].append(temp[i].pop());\n",
    "                    validstates.append(temp);\n",
    "    return validstates;\n",
    "\n",
    "\n",
    "\n",
    "def dfs(initial,goal):\n",
    "    S = [];\n",
    "    discovered = [];\n",
    "    S.append(initial);\n",
    "\n",
    "    while S:\n",
    "        state = S.pop();\n",
    "        \n",
    "        print(state);\n",
    "        if state == goal:\n",
    "            return state;\n",
    "\n",
    "        if state in discovered:\n",
    "            continue;\n",
    "\n",
    "        children = genvalidstates(state);\n",
    "        for child in children:\n",
    "            S.append(child);\n",
    "\n",
    "        discovered.append(state);\n",
    "\n",
    "    return None;\n",
    "\n",
    "print(dfs(initial,goal));"
   ]
  },
  {
   "cell_type": "code",
   "execution_count": null,
   "metadata": {},
   "outputs": [],
   "source": [
    "# Q2 block world problem using BFS\n",
    "\n",
    "initial = [['A'],['B','C'],[]];\n",
    "goal = [[],[],['A','B','C']];\n",
    "\n",
    "def genvalidstates(initial):\n",
    "    validstates = [];\n",
    "    for i in range(0,3):\n",
    "        for j in range(0,3):\n",
    "            if i!=j:\n",
    "                if len(initial[i])>0:\n",
    "                    temp = copy.deepcopy(initial);\n",
    "                    temp[j].append(temp[i].pop());\n",
    "                    validstates.append(temp);\n",
    "    return validstates;\n"
   ]
  }
 ],
 "metadata": {
  "kernelspec": {
   "display_name": "Python 3",
   "language": "python",
   "name": "python3"
  },
  "language_info": {
   "codemirror_mode": {
    "name": "ipython",
    "version": 3
   },
   "file_extension": ".py",
   "mimetype": "text/x-python",
   "name": "python",
   "nbconvert_exporter": "python",
   "pygments_lexer": "ipython3",
   "version": "3.11.2"
  },
  "orig_nbformat": 4
 },
 "nbformat": 4,
 "nbformat_minor": 2
}
