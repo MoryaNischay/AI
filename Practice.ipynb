{
 "cells": [
  {
   "cell_type": "code",
   "execution_count": 4,
   "metadata": {},
   "outputs": [
    {
     "name": "stdout",
     "output_type": "stream",
     "text": [
      "589\n",
      "Player 2 Wins!\n"
     ]
    }
   ],
   "source": [
    "import random as r\n",
    "rando=r.randint(0,999)\n",
    "\n",
    "guess1=int(input(\"Enter the first guess: \"))\n",
    "guess2=int(input(\"Enter the second guess: \"))\n",
    "\n",
    "a=abs(rando-guess1)\n",
    "b=abs(rando-guess2)\n",
    "print(rando)\n",
    "if b>a:\n",
    "    print(\"Player 1 Wins!\")\n",
    "elif b==a:\n",
    "    print(\"It's a tie!\")\n",
    "else:\n",
    "    print(\"Player 2 Wins!\")\n"
   ]
  },
  {
   "cell_type": "code",
   "execution_count": null,
   "metadata": {},
   "outputs": [],
   "source": []
  }
 ],
 "metadata": {
  "kernelspec": {
   "display_name": "Python 3",
   "language": "python",
   "name": "python3"
  },
  "language_info": {
   "codemirror_mode": {
    "name": "ipython",
    "version": 3
   },
   "file_extension": ".py",
   "mimetype": "text/x-python",
   "name": "python",
   "nbconvert_exporter": "python",
   "pygments_lexer": "ipython3",
   "version": "3.10.7 (tags/v3.10.7:6cc6b13, Sep  5 2022, 14:08:36) [MSC v.1933 64 bit (AMD64)]"
  },
  "orig_nbformat": 4,
  "vscode": {
   "interpreter": {
    "hash": "876db7d3f8682b7e4c5477e5f1e2dc2bd1b19fe05d9aabd59218369070754b39"
   }
  }
 },
 "nbformat": 4,
 "nbformat_minor": 2
}
