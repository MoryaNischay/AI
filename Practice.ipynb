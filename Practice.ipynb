{
 "cells": [
  {
   "cell_type": "code",
   "execution_count": null,
   "metadata": {},
   "outputs": [],
   "source": [
    "import random as r\n",
    "rando=r.randint(0,999)\n",
    "\n",
    "guess1=int(input(\"Enter the first guess: \"))\n",
    "guess2=int(input(\"Enter the second guess: \"))\n",
    "\n",
    "a=abs(rando-guess1)\n",
    "b=abs(rando-guess2)\n",
    "print(rando)\n",
    "if b>a:\n",
    "    print(\"Player 1 Wins!\")\n",
    "elif b==a:\n",
    "    print(\"It's a tie!\")\n",
    "else:\n",
    "    print(\"Player 2 Wins!\")\n"
   ]
  },
  {
   "cell_type": "code",
   "execution_count": null,
   "metadata": {},
   "outputs": [],
   "source": [
    "#basic bfs algorithm\n",
    "\n",
    "graph = {\n",
    "    '5' : ['4','1'],\n",
    "    '4' : ['3'],\n",
    "    '3' : ['2'],\n",
    "    '1' : ['2','0'],\n",
    "    '2' : [],\n",
    "    '0' : [],\n",
    "}\n",
    "\n",
    "visited = []\n",
    "queue = []\n",
    "\n",
    "def bfs(visited,graph,node):\n",
    "#write the code and explain in comments what each line does\n",
    "    visited.append(node)\n",
    "    #append the node to the visited list\n",
    "    queue.append(node)\n",
    "    #append the node to the queue list\n",
    "    while queue:\n",
    "        #while the queue is not empty\n",
    "        s = queue.pop(0)\n",
    "        #pop the first element of the queue\n",
    "        print (s, end = \" \")\n",
    "        #print the popped element\n",
    "        for neighbour in graph[s]:\n",
    "            #for each neighbour of the popped element\n",
    "            if neighbour not in visited:\n",
    "                #if the neighbour is not in the visited list\n",
    "                visited.append(neighbour)\n",
    "                #append the neighbour to the visited list\n",
    "                queue.append(neighbour)\n",
    "                #append the neighbour to the queue list\n",
    "\n",
    "bfs(visited,graph,'5')"
   ]
  },
  {
   "cell_type": "code",
   "execution_count": null,
   "metadata": {},
   "outputs": [],
   "source": [
    "t=(1,2,3,'s',[\"Hello\"])\n",
    "print(t[-2])\n",
    "\n",
    "d = {1:1,2:2,3:3,4:5}\n",
    "d.popitem()"
   ]
  },
  {
   "cell_type": "code",
   "execution_count": null,
   "metadata": {},
   "outputs": [],
   "source": [
    "def func(lst):\n",
    "    def sum(n):\n",
    "        s=1\n",
    "        for i in range(1,n+1):\n",
    "            print(i)\n",
    "            print(lst[i])\n",
    "            print(\"new\")\n",
    "            s = s+lst[i]\n",
    "        return s\n",
    "    for i in range(len(lst)):\n",
    "        sum(i)\n",
    "       \n",
    "func([1,3,5])"
   ]
  }
 ],
 "metadata": {
  "kernelspec": {
   "display_name": "Python 3",
   "language": "python",
   "name": "python3"
  },
  "language_info": {
   "codemirror_mode": {
    "name": "ipython",
    "version": 3
   },
   "file_extension": ".py",
   "mimetype": "text/x-python",
   "name": "python",
   "nbconvert_exporter": "python",
   "pygments_lexer": "ipython3",
   "version": "3.10.7"
  },
  "orig_nbformat": 4,
  "vscode": {
   "interpreter": {
    "hash": "876db7d3f8682b7e4c5477e5f1e2dc2bd1b19fe05d9aabd59218369070754b39"
   }
  }
 },
 "nbformat": 4,
 "nbformat_minor": 2
}
